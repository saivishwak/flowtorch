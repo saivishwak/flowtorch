{
 "cells": [
  {
   "cell_type": "code",
   "execution_count": 1,
   "id": "ba535900-cffe-43fe-988a-72fefe2a9733",
   "metadata": {},
   "outputs": [],
   "source": [
    "import torch\n",
    "import math"
   ]
  },
  {
   "cell_type": "code",
   "execution_count": 2,
   "id": "4f0a2333-124e-4bef-a16c-fbf00eca80be",
   "metadata": {},
   "outputs": [
    {
     "name": "stdout",
     "output_type": "stream",
     "text": [
      "<class 'torch.Tensor'>\n",
      "tensor([[-3.4585e+25,  4.5659e-41, -3.4585e+25,  4.5659e-41],\n",
      "        [ 3.6434e-44,  3.3631e-43,  2.0607e-41,  2.1996e+03],\n",
      "        [ 4.2324e+21,  1.9346e-19,  1.8912e+23,  2.0112e-19]])\n"
     ]
    }
   ],
   "source": [
    "x = torch.empty(3, 4)\n",
    "print(type(x))\n",
    "print(x)"
   ]
  },
  {
   "cell_type": "code",
   "execution_count": null,
   "id": "30a6363b-42b5-4051-95b2-c79a924f3ea5",
   "metadata": {},
   "outputs": [],
   "source": []
  }
 ],
 "metadata": {
  "kernelspec": {
   "display_name": "research-env",
   "language": "python",
   "name": "research-env"
  },
  "language_info": {
   "codemirror_mode": {
    "name": "ipython",
    "version": 3
   },
   "file_extension": ".py",
   "mimetype": "text/x-python",
   "name": "python",
   "nbconvert_exporter": "python",
   "pygments_lexer": "ipython3",
   "version": "3.10.12"
  }
 },
 "nbformat": 4,
 "nbformat_minor": 5
}
